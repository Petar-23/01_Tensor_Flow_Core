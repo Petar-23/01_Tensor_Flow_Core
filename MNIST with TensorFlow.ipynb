{
 "cells": [
  {
   "cell_type": "code",
   "execution_count": 3,
   "metadata": {},
   "outputs": [],
   "source": [
    "import tensorflow as tf\n",
    "import numpy as np"
   ]
  },
  {
   "cell_type": "code",
   "execution_count": 7,
   "metadata": {},
   "outputs": [
    {
     "name": "stdout",
     "output_type": "stream",
     "text": [
      "[[ 3.]\n",
      " [ 6.]\n",
      " [ 9.]\n",
      " [12.]\n",
      " [15.]\n",
      " [18.]\n",
      " [21.]\n",
      " [24.]\n",
      " [27.]\n",
      " [30.]]\n"
     ]
    }
   ],
   "source": [
    "# create a tf constant\n",
    "const = tf.constant(2.0, name = \"constant\")\n",
    "\n",
    "#create the tf variables\n",
    "# b = tf.Variable(2.0, name = \"b\")\n",
    "# -----------------------------------------------------------------------------------------------\n",
    "# create TensorFlow variables as Placeholder if we dont knwo what exact values b will have\n",
    "# The first argument is the datatype, shape of the Input, name.\n",
    "# We use none because our input vector has the size of ?x1 (Unknown rows, one column)\n",
    "b = tf.placeholder(tf.float32,[None, 1], name = 'b')\n",
    "# later when we run the code, we must \"feed-in\" the real data. This must be a python dictionary!\n",
    "# ------------------------------------------------------------------------------------------------\n",
    "c = tf.Variable(1.0, name = \"c\")\n",
    "\n",
    "#creation of operations\n",
    "d = tf.add(b, c, name = \"d\")\n",
    "e = tf.add(c, const, name = \"e\")\n",
    "a = tf.multiply(d, e, name = \"a\")\n",
    "\n",
    "# set-up the variable initialization\n",
    "init_op = tf.global_variables_initializer()\n",
    "\n",
    "# start the session\n",
    "with tf.Session() as sess:\n",
    "    # initialize the variables\n",
    "    sess.run(init_op)\n",
    "    # compute the output\n",
    "    # a_out = sess.run(a) Standard Case\n",
    "    a_out = sess.run(a, feed_dict = {b: np.arange(0,10)[:, np.newaxis]})\n",
    "print(a_out)\n",
    "    "
   ]
  },
  {
   "cell_type": "code",
   "execution_count": 6,
   "metadata": {},
   "outputs": [
    {
     "name": "stdout",
     "output_type": "stream",
     "text": [
      "[0 1 2 3 4 5 6 7 8 9]\n",
      "[[0]\n",
      " [1]\n",
      " [2]\n",
      " [3]\n",
      " [4]\n",
      " [5]\n",
      " [6]\n",
      " [7]\n",
      " [8]\n",
      " [9]]\n"
     ]
    }
   ],
   "source": [
    "x = np.arange(0,10)\n",
    "print(x)\n",
    "y = np.arange(0, 10)[:, np.newaxis]\n",
    "print(y)"
   ]
  },
  {
   "cell_type": "markdown",
   "metadata": {},
   "source": [
    "# A Neural Network Example\n",
    "Our goal is to build a simple 3-layer ANN.\n",
    "Furthermore, we are using the MNIST Dataset (28x28 pixel images of handwritten digits from 0 - 9).\n",
    "It has 70k images, from which we use 55K for Training 10k for Testing and 5k for validation\n"
   ]
  },
  {
   "cell_type": "code",
   "execution_count": 12,
   "metadata": {},
   "outputs": [
    {
     "name": "stdout",
     "output_type": "stream",
     "text": [
      "Extracting MNIST_data/train-images-idx3-ubyte.gz\n",
      "Extracting MNIST_data/train-labels-idx1-ubyte.gz\n",
      "Extracting MNIST_data/t10k-images-idx3-ubyte.gz\n",
      "Extracting MNIST_data/t10k-labels-idx1-ubyte.gz\n",
      "Epoch 1 cost =  0.488\n",
      "Epoch 2 cost =  0.183\n",
      "Epoch 3 cost =  0.126\n",
      "Epoch 4 cost =  0.096\n",
      "Epoch 5 cost =  0.076\n",
      "Epoch 6 cost =  0.055\n",
      "Epoch 7 cost =  0.042\n",
      "Epoch 8 cost =  0.033\n",
      "Epoch 9 cost =  0.021\n",
      "Epoch 10 cost =  0.016\n",
      "0.9798\n"
     ]
    }
   ],
   "source": [
    "# loading the data (TF has its own loader for the MNIST dataset)\n",
    "from tensorflow.examples.tutorials.mnist import input_data\n",
    "mnist = input_data.read_data_sets(\"MNIST_data/\", one_hot = True)\n",
    "# one_hot means that instead of having a specific label on every row, we want to have e.g. for the number\n",
    "# 4 the label 1 and every row which is not a 4 gets the label 0.\n",
    "\n",
    "#---------------------------------------------------------------------------------\n",
    "\n",
    "# Now we can set up the placeholder and variables for the training\n",
    "# Hyperparameters:\n",
    "learning_rate = 0.5\n",
    "epochs = 10\n",
    "batch_size = 100\n",
    "\n",
    "# delare the trianing data placeholders\n",
    "x = tf.placeholder(tf.float32, [None, 784]) # 28 x 28 = 784\n",
    "# delare the output data placeholder\n",
    "y = tf.placeholder(tf.float32, [None, 10]) # 10 nodes corresponding to 10 possible digits\n",
    "\n",
    "# ------------------------------------------------------------------------------------\n",
    "\n",
    "# Now we need to set-up the weight and bias variables\n",
    "# Connecting Input_Layer and Hidden_Layer (The Hidden_Layer will have 300 Nodes)\n",
    "Wi_h = tf.Variable(tf.random_normal([784, 300], stddev = 0.03), name = \"Wi_h\")\n",
    "bi_h = tf.Variable(tf.random_normal([300], stddev = 0.03), name = \"bi_h\")\n",
    "\n",
    "# Connecting Hidden_Layer and Output_Layer\n",
    "Wh_o = tf.Variable(tf.random_normal([300, 10], stddev = 0.03), name = \"Wo_h\")\n",
    "bh_o = tf.Variable(tf.random_normal([10], stddev = 0.03), name = \"bh_o\")\n",
    "\n",
    "# We use a normal distribution with the mean = 0 and a standard deviation = 0.03 to initialize the weights\n",
    "# and biases randomly. Therefore, the weights and biases will be randomly small between 0 and 0.03\n",
    "\n",
    "# -----------------------------------------------------------------------------------------\n",
    "\n",
    "# Now we setup the input-nodes and the activation function for the hidden layer neurons\n",
    "# Remember: each neuron does perform a dot-product of its inputs (784 greyvalues) with its associated weights\n",
    "# Remember: the result of this muliplication will them be \"poured\" into an acitvation function to decide \n",
    "# Remember: if the neuron will fire or not. \n",
    "\n",
    "# calculate the Output for the Hidden layer\n",
    "dot_product_plus_bias = tf.add(tf.matmul(x, Wi_h), bi_h) # matmul = matrix multiplication\n",
    "hidden_out = tf.nn.relu(dot_product_plus_bias) # we use the relu function as the activiation function\n",
    "\n",
    "# -------------------------------------------------------------------------------------------\n",
    "\n",
    "# calculation of the output layer\n",
    "dot_product_plus_bias_ho = tf.add(tf.matmul(hidden_out, Wh_o), bh_o)\n",
    "y_ = tf.nn.softmax(dot_product_plus_bias_ho) # here we use the softmax function as an activiation function\n",
    "\n",
    "# ---------------------------------------------------------------------------------------------\n",
    "\n",
    "# calculation of the cost function for the backprop.\n",
    "# in this case we use the cross entropy cost function. \n",
    "# since it uses log() we must clip the results of y_ between a super small value and 0.9999999\n",
    "# to avoid a NaN and interuption of the training process\n",
    "\n",
    "y_clipped = tf.clip_by_value(y_, 1e-10, 0.99999)\n",
    "cross_entropy = -tf.reduce_mean(tf.reduce_sum(y * tf.log(y_clipped) + (1-y)*tf.log(1-y_clipped), axis = 1))\n",
    "\n",
    "# ----------------------------------------------------------------------------------------------\n",
    "\n",
    "# set up of the optimiser\n",
    "# we are using the gradient descent algorithm to update the weights with the goal to minimize the cross entropy\n",
    "# this is our backprop. \n",
    "optimizer = tf.train.GradientDescentOptimizer(learning_rate = learning_rate).minimize(cross_entropy)\n",
    "\n",
    "# -----------------------------------------------------------------------------------------------\n",
    "\n",
    "# initialize the variables\n",
    "init_op = tf.global_variables_initializer()\n",
    "\n",
    "# define the KPIs\n",
    "correct_predicition = tf.equal(tf.argmax(y, 1), tf.argmax(y_, 1))\n",
    "# tf.equals returns True if the two arguments are equal\n",
    "# tf.argmax returns the index of the maximum value in the matrix or vector\n",
    "# Hence, correct_prediction will be a mx1 matrix with True ond False values\n",
    "accuracy = tf.reduce_mean(tf.cast(correct_predicition, tf.float32))\n",
    "# We want to calc the mean of the correct_prediction matrix\n",
    "# first we must cast from boolean to float32 and then apply the tf.reduce_mean function\n",
    "\n",
    "# -------------------------------------------------------------------------------------------------\n",
    "# -------------------------------------------------------------------------------------------------\n",
    "\n",
    "# Setting up the training\n",
    "with tf.Session() as sess:\n",
    "    # init the variables\n",
    "    sess.run(init_op)\n",
    "    total_batch = int(len(mnist.train.labels)/batch_size)\n",
    "    for epoch in range(epochs):\n",
    "        avg_cost = 0\n",
    "        for i in range(total_batch):\n",
    "            batch_x, batch_y = mnist.train.next_batch(batch_size = batch_size)\n",
    "            _, c = sess.run([optimizer, cross_entropy],\n",
    "                           feed_dict = {x: batch_x, y: batch_y})\n",
    "            avg_cost += c / total_batch\n",
    "        print(\"Epoch\", (epoch + 1), \"cost = \", \"{:.3f}\".format(avg_cost))\n",
    "    print(sess.run(accuracy, feed_dict={x: mnist.test.images, y: mnist.test.labels}))\n"
   ]
  },
  {
   "cell_type": "code",
   "execution_count": 11,
   "metadata": {},
   "outputs": [
    {
     "name": "stdout",
     "output_type": "stream",
     "text": [
      "nan\n"
     ]
    }
   ],
   "source": [
    "print(c)"
   ]
  },
  {
   "cell_type": "code",
   "execution_count": null,
   "metadata": {},
   "outputs": [],
   "source": []
  }
 ],
 "metadata": {
  "kernelspec": {
   "display_name": "Python 3",
   "language": "python",
   "name": "python3"
  },
  "language_info": {
   "codemirror_mode": {
    "name": "ipython",
    "version": 3
   },
   "file_extension": ".py",
   "mimetype": "text/x-python",
   "name": "python",
   "nbconvert_exporter": "python",
   "pygments_lexer": "ipython3",
   "version": "3.7.3"
  }
 },
 "nbformat": 4,
 "nbformat_minor": 2
}
